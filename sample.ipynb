{
 "cells": [
  {
   "cell_type": "markdown",
   "metadata": {},
   "source": [
    "## This is a sample code for using the xgb_cv and xgb_GridSearchCV classes to perform cross-validation and grid search hyperparameter tuning together with early stopping rounds in the Scikit-Learn API for XGBoost"
   ]
  },
  {
   "cell_type": "markdown",
   "metadata": {},
   "source": [
    "### Load the training dataset and perform some basic, sample wrangling ###"
   ]
  },
  {
   "cell_type": "code",
   "execution_count": 1,
   "metadata": {},
   "outputs": [],
   "source": [
    "import numpy as np\n",
    "import pandas as pd\n",
    "from xgboost import XGBClassifier\n",
    "import XGBCV #import the XGBCV python code\n",
    "import warnings\n",
    "warnings.filterwarnings('ignore')\n",
    "\n",
    "train_df  = pd.read_csv('TitanicData/train.csv')\n",
    "\n",
    "#As an example, remove cabin, ticket, PassengerID, Name, and Embarked column\n",
    "train_df = train_df[['Survived','Pclass','Sex','Age']]\n",
    "\n",
    "#make male = 0, female = 1\n",
    "train_df['Sex']= (train_df['Sex']=='female').astype(int)\n",
    "\n",
    "#Create X and y frames\n",
    "y = train_df['Survived']\n",
    "X = train_df.drop(labels = 'Survived',axis = 1)"
   ]
  },
  {
   "cell_type": "markdown",
   "metadata": {},
   "source": [
    "### Instantiate a default XGBoost model just as a sample. Instantiate an xgb_cv object and execute the class method run_cv to perform cross-validation using customized parameters"
   ]
  },
  {
   "cell_type": "code",
   "execution_count": 2,
   "metadata": {},
   "outputs": [],
   "source": [
    "#instantiate the XGBClassifier object\n",
    "model = XGBClassifier(verbosity = 0)\n",
    "\n",
    "#instantiate the xgb_cv object using the XGBClassifier object\n",
    "xgbcv = XGBCV.xgb_cv(model)\n",
    "\n",
    "#run cross validation with 10 folds, 15 early stopping rounds, two evaluation metric, and stratified as well as shuffled folds. \n",
    "#set the seed to 5 for reproducibility\n",
    "eval_metrics = ['error','logloss']\n",
    "xgbcv.run_cv(X, y, folds = 10, early_stopping_rounds = 15, eval_metric = eval_metrics, stratified = True, \n",
    "             shuffle = True, seed = 5)"
   ]
  },
  {
   "cell_type": "markdown",
   "metadata": {},
   "source": [
    "### Display some of the results of the cross-validation"
   ]
  },
  {
   "cell_type": "code",
   "execution_count": 21,
   "metadata": {},
   "outputs": [
    {
     "name": "stdout",
     "output_type": "stream",
     "text": [
      "Average optimal epoch determined by early stopping 12.50 +/- 7.62\n",
      "Average final epoch determined by early stopping 27.50 +/- 7.62\n",
      "\n",
      "\n",
      "Average CV scores for metric: error, (at the optimal early stopping epoch) 0.19 +/- 0.04\n",
      "Average CV scores for metric: logloss, (at the optimal early stopping epoch) 0.42 +/- 0.05\n",
      "\n",
      "\n",
      "Average training scores for metric: error, (at the optimal early stopping epoch) 0.15 +/- 0.00\n",
      "Average training scores for metric: logloss, (at the optimal early stopping epoch) 0.36 +/- 0.02\n"
     ]
    }
   ],
   "source": [
    "print(\"Average optimal epoch determined by early stopping %.2f +/- %.2f\" % \n",
    "      (np.mean(xgbcv.optimal_iter) ,np.std(xgbcv.optimal_iter)))\n",
    "\n",
    "print(\"Average final epoch determined by early stopping %.2f +/- %.2f\" % \n",
    "      (np.mean(xgbcv.final_iter) ,np.std(xgbcv.final_iter)))\n",
    "\n",
    "print(\"\\n\")\n",
    "\n",
    "for metric in eval_metrics:\n",
    "    print(\"Average CV scores for metric: %s, (at the optimal early stopping epoch) %.2f +/- %.2f\" % \n",
    "          (metric, np.mean(xgbcv.optimal_scores[metric]) ,np.std(xgbcv.optimal_scores[metric])))\n",
    "    \n",
    "print(\"\\n\")\n",
    "    \n",
    "for metric in eval_metrics:\n",
    "    print(\"Average training scores for metric: %s, (at the optimal early stopping epoch) %.2f +/- %.2f\" % \n",
    "          (metric, np.mean(xgbcv.optimal_train_scores[metric]) ,np.std(xgbcv.optimal_train_scores[metric])))"
   ]
  },
  {
   "cell_type": "markdown",
   "metadata": {},
   "source": [
    "### Perform a grid search with cross-validation to tune hyperparameters"
   ]
  },
  {
   "cell_type": "code",
   "execution_count": 23,
   "metadata": {},
   "outputs": [],
   "source": [
    "#instantiate the xgb_GridSearchCV object using the XGBClassifier object\n",
    "XGBGrid = XGBCV.xgb_GridSearchCV(model)\n",
    "\n",
    "#define a sample hyperparameter grid\n",
    "param_grid = {\"subsample\": [0.6, 0.7, 0.8, 0.9],\n",
    "              \"max_depth\": list(range(4,10)),\n",
    "              \"learning_rate\": [0.001, 0.01, 0.1]}\n",
    "\n",
    "XGBGrid.run_GridSearchCV(X, y, param_grid, folds = 10, early_stopping_rounds = 15, eval_metric = 'logloss', stratified = True,\n",
    "                         shuffle = True, seed = 5)"
   ]
  },
  {
   "cell_type": "code",
   "execution_count": 24,
   "metadata": {},
   "outputs": [
    {
     "name": "stdout",
     "output_type": "stream",
     "text": [
      "The best parameter set is: {'subsample': 0.7, 'max_depth': 7, 'learning_rate': 0.1}\n",
      "for which the best choice of n_estimators is: 32, as determined by early stopping.\n",
      "\n",
      "The cross-validation logloss value for this set of parameters with early stopping is: 0.42\n"
     ]
    }
   ],
   "source": [
    "print(\"The best parameter set is:\", XGBGrid.best_params)\n",
    "print(\"for which the best choice of n_estimators is: %i, as determined by early stopping.\" % np.round(np.mean(XGBGrid.best_trees)))\n",
    "print('\\nThe cross-validation logloss value for this set of parameters with early stopping is: %.2f' % XGBGrid.best_metric_value)\n"
   ]
  },
  {
   "cell_type": "code",
   "execution_count": null,
   "metadata": {},
   "outputs": [],
   "source": []
  }
 ],
 "metadata": {
  "kernelspec": {
   "display_name": "Python 3",
   "language": "python",
   "name": "python3"
  },
  "language_info": {
   "codemirror_mode": {
    "name": "ipython",
    "version": 3
   },
   "file_extension": ".py",
   "mimetype": "text/x-python",
   "name": "python",
   "nbconvert_exporter": "python",
   "pygments_lexer": "ipython3",
   "version": "3.8.5"
  }
 },
 "nbformat": 4,
 "nbformat_minor": 4
}
